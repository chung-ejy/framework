{
 "cells": [
  {
   "cell_type": "code",
   "execution_count": 1,
   "metadata": {},
   "outputs": [],
   "source": [
    "import pandas as pd\n",
    "from database.database import Database\n",
    "from modeler.modeler import Modeler as m\n",
    "import matplotlib.pyplot as plt\n",
    "from datetime import datetime, timedelta"
   ]
  },
  {
   "cell_type": "code",
   "execution_count": 2,
   "metadata": {},
   "outputs": [],
   "source": [
    "project_name = \"test\""
   ]
  },
  {
   "cell_type": "code",
   "execution_count": 3,
   "metadata": {},
   "outputs": [],
   "source": [
    "db = Database(project_name)"
   ]
  },
  {
   "cell_type": "code",
   "execution_count": null,
   "metadata": {},
   "outputs": [],
   "source": [
    "## Transform data\n",
    "data = pd.read_csv(\"data\")"
   ]
  },
  {
   "cell_type": "code",
   "execution_count": null,
   "metadata": {},
   "outputs": [],
   "source": [
    "## Refine Data\n",
    "## if classification make appropriate changes\n",
    "factors = []\n",
    "label = \"\"\n",
    "index = \"\"\n",
    "data[\"y\"] = data[label]\n",
    "data.drop(label,axis=1)\n",
    "data = data.sample(frac=1)\n",
    "train = data.iloc[:int(data.index.size * 0.7)]\n",
    "test = data.iloc[int(data.index.size * 0.7):]\n",
    "X = train[factors]\n",
    "y = train[[\"y\"]]\n",
    "y[\"y_class\"] = 1\n",
    "refined_data = {\"X\":X,\"y\":y}"
   ]
  },
  {
   "cell_type": "code",
   "execution_count": null,
   "metadata": {},
   "outputs": [],
   "source": [
    "## Model\n",
    "model = m.regression(refined_data,ranked=False,tf=False,deep=False,sk=True,xgb=True)"
   ]
  },
  {
   "cell_type": "code",
   "execution_count": null,
   "metadata": {},
   "outputs": [],
   "source": [
    "## Test Model\n",
    "predictions = [x[0] for x in model[\"model\"].predict(test[factors])]\n",
    "test[\"predictions\"] = predictions"
   ]
  },
  {
   "cell_type": "code",
   "execution_count": null,
   "metadata": {},
   "outputs": [],
   "source": [
    "## Visualize\n",
    "plt.plot(test[index],test[\"predictions\"])\n",
    "plt.plot(test[index],test[label])"
   ]
  },
  {
   "cell_type": "code",
   "execution_count": null,
   "metadata": {},
   "outputs": [],
   "source": [
    "## Store Model\n",
    "db.connect()\n",
    "db.store_data(\"model\",model)\n",
    "db.close()"
   ]
  }
 ],
 "metadata": {
  "kernelspec": {
   "display_name": "Python 3",
   "language": "python",
   "name": "python3"
  },
  "language_info": {
   "codemirror_mode": {
    "name": "ipython",
    "version": 3
   },
   "file_extension": ".py",
   "mimetype": "text/x-python",
   "name": "python",
   "nbconvert_exporter": "python",
   "pygments_lexer": "ipython3",
   "version": "3.8.0"
  }
 },
 "nbformat": 4,
 "nbformat_minor": 4
}
